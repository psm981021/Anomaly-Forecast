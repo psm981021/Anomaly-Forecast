{
 "cells": [
  {
   "cell_type": "code",
   "execution_count": 12,
   "metadata": {},
   "outputs": [],
   "source": [
    "import pandas as pd\n",
    "import torch"
   ]
  },
  {
   "cell_type": "markdown",
   "metadata": {},
   "source": [
    "L1.01-finetune+moe(+label)"
   ]
  },
  {
   "cell_type": "code",
   "execution_count": 18,
   "metadata": {},
   "outputs": [
    {
     "name": "stdout",
     "output_type": "stream",
     "text": [
      "5.081170696428571\n"
     ]
    }
   ],
   "source": [
    "data=pd.read_csv(\"seoul-L1.01/seoul-L1.01-8-finetune+moe(+label).csv\")\n",
    "mae = (data['predicted precipitation']-data['ground_truth']).abs().mean()\n",
    "print(mae)"
   ]
  },
  {
   "cell_type": "markdown",
   "metadata": {},
   "source": [
    "L1.01-finetune"
   ]
  },
  {
   "cell_type": "code",
   "execution_count": 19,
   "metadata": {},
   "outputs": [
    {
     "name": "stdout",
     "output_type": "stream",
     "text": [
      "6.799516625\n"
     ]
    }
   ],
   "source": [
    "data=pd.read_csv(\"seoul-L1.01/seoul-L1.01-8-finetune.csv\")\n",
    "mae = (data['predicted precipitation']-data['ground_truth']).abs().mean()\n",
    "print(mae)"
   ]
  },
  {
   "cell_type": "markdown",
   "metadata": {},
   "source": [
    "L2.01-finetune"
   ]
  },
  {
   "cell_type": "code",
   "execution_count": 20,
   "metadata": {},
   "outputs": [
    {
     "name": "stdout",
     "output_type": "stream",
     "text": [
      "7.219759505952381\n"
     ]
    }
   ],
   "source": [
    "data=pd.read_csv(\"seoul-L2.01/seoul-L2.01-8-fine-tune.csv\")\n",
    "mae = (data['predicted precipitation']-data['ground_truth']).abs().mean()\n",
    "print(mae)"
   ]
  },
  {
   "cell_type": "markdown",
   "metadata": {},
   "source": [
    "L2.01-finetune+moe "
   ]
  },
  {
   "cell_type": "code",
   "execution_count": 24,
   "metadata": {},
   "outputs": [
    {
     "name": "stdout",
     "output_type": "stream",
     "text": [
      "5.498401041666666\n"
     ]
    }
   ],
   "source": [
    "data=pd.read_csv(\"seoul-L2.01/seoul-L2.01-8-finetune+moe.csv\")\n",
    "mae = (data['predicted precipitation']-data['ground_truth']).abs().mean()\n",
    "print(mae)"
   ]
  },
  {
   "cell_type": "markdown",
   "metadata": {},
   "source": [
    "L3.03-finetune"
   ]
  },
  {
   "cell_type": "code",
   "execution_count": 23,
   "metadata": {},
   "outputs": [
    {
     "name": "stdout",
     "output_type": "stream",
     "text": [
      "6.8859463750000005\n"
     ]
    }
   ],
   "source": [
    "data=pd.read_csv(\"seoul-L3.03/seoul-L3.03-8-finetune.csv\")\n",
    "mae = (data['predicted precipitation']-data['ground_truth']).abs().mean()\n",
    "print(mae)"
   ]
  },
  {
   "cell_type": "markdown",
   "metadata": {},
   "source": [
    "L3.03-finetune+moe : 재실험 "
   ]
  },
  {
   "cell_type": "code",
   "execution_count": 22,
   "metadata": {},
   "outputs": [
    {
     "name": "stdout",
     "output_type": "stream",
     "text": [
      "14.930415708333333\n"
     ]
    }
   ],
   "source": [
    "data=pd.read_csv(\"seoul-L3.03/seoul-L3.03-8-finetune+moe.csv\")\n",
    "mae = (data['predicted precipitation']-data['ground_truth']).abs().mean()\n",
    "print(mae)"
   ]
  },
  {
   "cell_type": "markdown",
   "metadata": {},
   "source": [
    "L4.04-finetune "
   ]
  },
  {
   "cell_type": "code",
   "execution_count": 28,
   "metadata": {},
   "outputs": [
    {
     "name": "stdout",
     "output_type": "stream",
     "text": [
      "7.080224732142858\n"
     ]
    }
   ],
   "source": [
    "data=pd.read_csv(\"seoul-L4.04/seoul-L4.04-8-finetune.csv\")\n",
    "mae = (data['predicted precipitation']-data['ground_truth']).abs().mean()\n",
    "print(mae)"
   ]
  },
  {
   "cell_type": "markdown",
   "metadata": {},
   "source": [
    "L4.04-finetune+moe"
   ]
  },
  {
   "cell_type": "code",
   "execution_count": 29,
   "metadata": {},
   "outputs": [
    {
     "name": "stdout",
     "output_type": "stream",
     "text": [
      "5.402158071428571\n"
     ]
    }
   ],
   "source": [
    "data=pd.read_csv(\"seoul-L4.04/seoul-L4.04-8-Fine-tune+moe.csv\")\n",
    "mae = (data['predicted precipitation']-data['ground_truth']).abs().mean()\n",
    "print(mae)"
   ]
  },
  {
   "cell_type": "markdown",
   "metadata": {},
   "source": [
    "L5.01-finetune"
   ]
  },
  {
   "cell_type": "code",
   "execution_count": 30,
   "metadata": {},
   "outputs": [
    {
     "name": "stdout",
     "output_type": "stream",
     "text": [
      "6.967023083333334\n"
     ]
    }
   ],
   "source": [
    "data=pd.read_csv(\"seoul-L5.01/seoul-L5.01-8-Fine-tune.csv\")\n",
    "mae = (data['predicted precipitation']-data['ground_truth']).abs().mean()\n",
    "print(mae)"
   ]
  },
  {
   "cell_type": "code",
   "execution_count": 31,
   "metadata": {},
   "outputs": [
    {
     "name": "stdout",
     "output_type": "stream",
     "text": [
      "3.605490208333334\n"
     ]
    }
   ],
   "source": [
    "data=pd.read_csv(\"seoul-L5.01/seoul-L5.01-8-finetune+moe.csv\")\n",
    "mae = (data['predicted precipitation']-data['ground_truth']).abs().mean()\n",
    "print(mae)"
   ]
  },
  {
   "cell_type": "code",
   "execution_count": null,
   "metadata": {},
   "outputs": [],
   "source": []
  }
 ],
 "metadata": {
  "kernelspec": {
   "display_name": "base",
   "language": "python",
   "name": "python3"
  },
  "language_info": {
   "codemirror_mode": {
    "name": "ipython",
    "version": 3
   },
   "file_extension": ".py",
   "mimetype": "text/x-python",
   "name": "python",
   "nbconvert_exporter": "python",
   "pygments_lexer": "ipython3",
   "version": "3.1.undefined"
  }
 },
 "nbformat": 4,
 "nbformat_minor": 2
}
