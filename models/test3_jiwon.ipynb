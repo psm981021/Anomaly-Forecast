{
 "cells": [
  {
   "cell_type": "code",
   "execution_count": 3,
   "metadata": {},
   "outputs": [
    {
     "ename": "ModuleNotFoundError",
     "evalue": "No module named 'torch'",
     "output_type": "error",
     "traceback": [
      "\u001b[0;31m---------------------------------------------------------------------------\u001b[0m",
      "\u001b[0;31mModuleNotFoundError\u001b[0m                       Traceback (most recent call last)",
      "Cell \u001b[0;32mIn[3], line 1\u001b[0m\n\u001b[0;32m----> 1\u001b[0m \u001b[38;5;28;01mimport\u001b[39;00m \u001b[38;5;21;01mtorch\u001b[39;00m\n\u001b[1;32m      2\u001b[0m \u001b[38;5;28;01mimport\u001b[39;00m \u001b[38;5;21;01mtorch\u001b[39;00m\u001b[38;5;21;01m.\u001b[39;00m\u001b[38;5;21;01mnn\u001b[39;00m \u001b[38;5;28;01mas\u001b[39;00m \u001b[38;5;21;01mnn\u001b[39;00m\n\u001b[1;32m      3\u001b[0m \u001b[38;5;28;01mimport\u001b[39;00m \u001b[38;5;21;01mpandas\u001b[39;00m \u001b[38;5;28;01mas\u001b[39;00m \u001b[38;5;21;01mpd\u001b[39;00m\n",
      "\u001b[0;31mModuleNotFoundError\u001b[0m: No module named 'torch'"
     ]
    }
   ],
   "source": [
    "import torch\n",
    "import torch.nn as nn\n",
    "import pandas as pd\n",
    "import numpy as np\n",
    "import matplotlib.pyplot as plt\n",
    "import seaborn as sns\n",
    "from torch.utils.data import TensorDataset, DataLoader"
   ]
  },
  {
   "cell_type": "code",
   "execution_count": null,
   "metadata": {},
   "outputs": [],
   "source": [
    "data = pd.read_csv('/Users/sb/Desktop/anomaly_forecast/data/asos_105_crop.csv')"
   ]
  },
  {
   "cell_type": "code",
   "execution_count": 46,
   "metadata": {},
   "outputs": [],
   "source": [
    "train=pd.read_csv(\"asos_105_train1.csv\")\n",
    "test=pd.read_csv(\"asos_105_test1.csv\")"
   ]
  },
  {
   "cell_type": "code",
   "execution_count": 47,
   "metadata": {},
   "outputs": [],
   "source": [
    "train=train.drop(['일시'],axis=1)\n",
    "test=test.drop(['일시'],axis=1)"
   ]
  },
  {
   "cell_type": "code",
   "execution_count": 48,
   "metadata": {},
   "outputs": [],
   "source": [
    "y_train=train['강수량(mm)']\n",
    "x_train=train.drop('강수량(mm)',axis=1)\n",
    "y_test=test['강수량(mm)']\n",
    "x_test=test.drop('강수량(mm)',axis=1)"
   ]
  },
  {
   "cell_type": "code",
   "execution_count": 49,
   "metadata": {},
   "outputs": [
    {
     "data": {
      "text/html": [
       "<div>\n",
       "<style scoped>\n",
       "    .dataframe tbody tr th:only-of-type {\n",
       "        vertical-align: middle;\n",
       "    }\n",
       "\n",
       "    .dataframe tbody tr th {\n",
       "        vertical-align: top;\n",
       "    }\n",
       "\n",
       "    .dataframe thead th {\n",
       "        text-align: right;\n",
       "    }\n",
       "</style>\n",
       "<table border=\"1\" class=\"dataframe\">\n",
       "  <thead>\n",
       "    <tr style=\"text-align: right;\">\n",
       "      <th></th>\n",
       "      <th>기온(°C)</th>\n",
       "      <th>풍속(m/s)</th>\n",
       "      <th>습도(%)</th>\n",
       "      <th>증기압(hPa)</th>\n",
       "      <th>이슬점온도(°C)</th>\n",
       "      <th>현지기압(hPa)</th>\n",
       "      <th>해면기압(hPa)</th>\n",
       "      <th>시정(10m)</th>\n",
       "      <th>지면온도(°C)</th>\n",
       "      <th>5cm 지중온도(°C)</th>\n",
       "      <th>10cm 지중온도(°C)</th>\n",
       "      <th>20cm 지중온도(°C)</th>\n",
       "      <th>30cm 지중온도(°C)</th>\n",
       "      <th>sin_풍향(16방위)_1</th>\n",
       "      <th>con_풍향(16방위)_1</th>\n",
       "      <th>month</th>\n",
       "      <th>season</th>\n",
       "    </tr>\n",
       "  </thead>\n",
       "  <tbody>\n",
       "    <tr>\n",
       "      <th>0</th>\n",
       "      <td>2.9</td>\n",
       "      <td>4.3</td>\n",
       "      <td>0.36</td>\n",
       "      <td>2.7</td>\n",
       "      <td>-10.7</td>\n",
       "      <td>26.6</td>\n",
       "      <td>29.9</td>\n",
       "      <td>2.000</td>\n",
       "      <td>1.7</td>\n",
       "      <td>2.5</td>\n",
       "      <td>2.5</td>\n",
       "      <td>4.6</td>\n",
       "      <td>5.2</td>\n",
       "      <td>-0.939693</td>\n",
       "      <td>3.420201e-01</td>\n",
       "      <td>1</td>\n",
       "      <td>0</td>\n",
       "    </tr>\n",
       "    <tr>\n",
       "      <th>1</th>\n",
       "      <td>2.6</td>\n",
       "      <td>4.6</td>\n",
       "      <td>0.35</td>\n",
       "      <td>2.6</td>\n",
       "      <td>-11.3</td>\n",
       "      <td>26.2</td>\n",
       "      <td>29.5</td>\n",
       "      <td>2.000</td>\n",
       "      <td>1.3</td>\n",
       "      <td>2.4</td>\n",
       "      <td>2.3</td>\n",
       "      <td>4.6</td>\n",
       "      <td>5.2</td>\n",
       "      <td>-0.939693</td>\n",
       "      <td>3.420201e-01</td>\n",
       "      <td>1</td>\n",
       "      <td>0</td>\n",
       "    </tr>\n",
       "    <tr>\n",
       "      <th>2</th>\n",
       "      <td>2.3</td>\n",
       "      <td>3.7</td>\n",
       "      <td>0.34</td>\n",
       "      <td>2.5</td>\n",
       "      <td>-11.9</td>\n",
       "      <td>26.2</td>\n",
       "      <td>29.5</td>\n",
       "      <td>2.000</td>\n",
       "      <td>1.0</td>\n",
       "      <td>2.2</td>\n",
       "      <td>2.0</td>\n",
       "      <td>4.5</td>\n",
       "      <td>5.2</td>\n",
       "      <td>-0.939693</td>\n",
       "      <td>3.420201e-01</td>\n",
       "      <td>1</td>\n",
       "      <td>0</td>\n",
       "    </tr>\n",
       "    <tr>\n",
       "      <th>3</th>\n",
       "      <td>2.5</td>\n",
       "      <td>4.5</td>\n",
       "      <td>0.33</td>\n",
       "      <td>2.4</td>\n",
       "      <td>-12.1</td>\n",
       "      <td>26.6</td>\n",
       "      <td>29.9</td>\n",
       "      <td>2.000</td>\n",
       "      <td>1.3</td>\n",
       "      <td>2.0</td>\n",
       "      <td>1.8</td>\n",
       "      <td>4.4</td>\n",
       "      <td>5.2</td>\n",
       "      <td>-0.939693</td>\n",
       "      <td>3.420201e-01</td>\n",
       "      <td>1</td>\n",
       "      <td>0</td>\n",
       "    </tr>\n",
       "    <tr>\n",
       "      <th>4</th>\n",
       "      <td>2.6</td>\n",
       "      <td>4.3</td>\n",
       "      <td>0.30</td>\n",
       "      <td>2.2</td>\n",
       "      <td>-13.2</td>\n",
       "      <td>26.1</td>\n",
       "      <td>29.4</td>\n",
       "      <td>2.000</td>\n",
       "      <td>1.4</td>\n",
       "      <td>2.0</td>\n",
       "      <td>1.8</td>\n",
       "      <td>4.4</td>\n",
       "      <td>5.2</td>\n",
       "      <td>-0.642788</td>\n",
       "      <td>7.660444e-01</td>\n",
       "      <td>1</td>\n",
       "      <td>0</td>\n",
       "    </tr>\n",
       "    <tr>\n",
       "      <th>...</th>\n",
       "      <td>...</td>\n",
       "      <td>...</td>\n",
       "      <td>...</td>\n",
       "      <td>...</td>\n",
       "      <td>...</td>\n",
       "      <td>...</td>\n",
       "      <td>...</td>\n",
       "      <td>...</td>\n",
       "      <td>...</td>\n",
       "      <td>...</td>\n",
       "      <td>...</td>\n",
       "      <td>...</td>\n",
       "      <td>...</td>\n",
       "      <td>...</td>\n",
       "      <td>...</td>\n",
       "      <td>...</td>\n",
       "      <td>...</td>\n",
       "    </tr>\n",
       "    <tr>\n",
       "      <th>62993</th>\n",
       "      <td>7.1</td>\n",
       "      <td>2.1</td>\n",
       "      <td>0.48</td>\n",
       "      <td>4.9</td>\n",
       "      <td>-3.1</td>\n",
       "      <td>23.7</td>\n",
       "      <td>27.1</td>\n",
       "      <td>4.001</td>\n",
       "      <td>6.0</td>\n",
       "      <td>7.7</td>\n",
       "      <td>9.8</td>\n",
       "      <td>10.2</td>\n",
       "      <td>9.8</td>\n",
       "      <td>-1.000000</td>\n",
       "      <td>-1.836970e-16</td>\n",
       "      <td>3</td>\n",
       "      <td>0</td>\n",
       "    </tr>\n",
       "    <tr>\n",
       "      <th>62994</th>\n",
       "      <td>5.9</td>\n",
       "      <td>2.1</td>\n",
       "      <td>0.50</td>\n",
       "      <td>4.6</td>\n",
       "      <td>-3.7</td>\n",
       "      <td>24.2</td>\n",
       "      <td>27.6</td>\n",
       "      <td>4.534</td>\n",
       "      <td>5.1</td>\n",
       "      <td>6.9</td>\n",
       "      <td>9.3</td>\n",
       "      <td>9.9</td>\n",
       "      <td>9.8</td>\n",
       "      <td>-1.000000</td>\n",
       "      <td>-1.836970e-16</td>\n",
       "      <td>3</td>\n",
       "      <td>0</td>\n",
       "    </tr>\n",
       "    <tr>\n",
       "      <th>62995</th>\n",
       "      <td>5.2</td>\n",
       "      <td>1.7</td>\n",
       "      <td>0.52</td>\n",
       "      <td>4.6</td>\n",
       "      <td>-3.8</td>\n",
       "      <td>23.9</td>\n",
       "      <td>27.3</td>\n",
       "      <td>4.729</td>\n",
       "      <td>4.4</td>\n",
       "      <td>6.3</td>\n",
       "      <td>8.8</td>\n",
       "      <td>9.6</td>\n",
       "      <td>9.8</td>\n",
       "      <td>-1.000000</td>\n",
       "      <td>-1.836970e-16</td>\n",
       "      <td>3</td>\n",
       "      <td>0</td>\n",
       "    </tr>\n",
       "    <tr>\n",
       "      <th>62996</th>\n",
       "      <td>4.5</td>\n",
       "      <td>1.8</td>\n",
       "      <td>0.51</td>\n",
       "      <td>4.3</td>\n",
       "      <td>-4.7</td>\n",
       "      <td>23.9</td>\n",
       "      <td>27.3</td>\n",
       "      <td>4.883</td>\n",
       "      <td>3.9</td>\n",
       "      <td>5.9</td>\n",
       "      <td>8.4</td>\n",
       "      <td>9.3</td>\n",
       "      <td>9.7</td>\n",
       "      <td>-1.000000</td>\n",
       "      <td>-1.836970e-16</td>\n",
       "      <td>3</td>\n",
       "      <td>0</td>\n",
       "    </tr>\n",
       "    <tr>\n",
       "      <th>62997</th>\n",
       "      <td>4.0</td>\n",
       "      <td>1.3</td>\n",
       "      <td>0.53</td>\n",
       "      <td>4.3</td>\n",
       "      <td>-4.7</td>\n",
       "      <td>24.1</td>\n",
       "      <td>27.5</td>\n",
       "      <td>4.531</td>\n",
       "      <td>3.5</td>\n",
       "      <td>5.4</td>\n",
       "      <td>8.0</td>\n",
       "      <td>9.0</td>\n",
       "      <td>9.5</td>\n",
       "      <td>-0.939693</td>\n",
       "      <td>-3.420201e-01</td>\n",
       "      <td>3</td>\n",
       "      <td>0</td>\n",
       "    </tr>\n",
       "  </tbody>\n",
       "</table>\n",
       "<p>62998 rows × 17 columns</p>\n",
       "</div>"
      ],
      "text/plain": [
       "       기온(°C)  풍속(m/s)  습도(%)  증기압(hPa)  이슬점온도(°C)  현지기압(hPa)  해면기압(hPa)  \\\n",
       "0         2.9      4.3   0.36       2.7      -10.7       26.6       29.9   \n",
       "1         2.6      4.6   0.35       2.6      -11.3       26.2       29.5   \n",
       "2         2.3      3.7   0.34       2.5      -11.9       26.2       29.5   \n",
       "3         2.5      4.5   0.33       2.4      -12.1       26.6       29.9   \n",
       "4         2.6      4.3   0.30       2.2      -13.2       26.1       29.4   \n",
       "...       ...      ...    ...       ...        ...        ...        ...   \n",
       "62993     7.1      2.1   0.48       4.9       -3.1       23.7       27.1   \n",
       "62994     5.9      2.1   0.50       4.6       -3.7       24.2       27.6   \n",
       "62995     5.2      1.7   0.52       4.6       -3.8       23.9       27.3   \n",
       "62996     4.5      1.8   0.51       4.3       -4.7       23.9       27.3   \n",
       "62997     4.0      1.3   0.53       4.3       -4.7       24.1       27.5   \n",
       "\n",
       "       시정(10m)  지면온도(°C)  5cm 지중온도(°C)  10cm 지중온도(°C)  20cm 지중온도(°C)  \\\n",
       "0        2.000       1.7           2.5            2.5            4.6   \n",
       "1        2.000       1.3           2.4            2.3            4.6   \n",
       "2        2.000       1.0           2.2            2.0            4.5   \n",
       "3        2.000       1.3           2.0            1.8            4.4   \n",
       "4        2.000       1.4           2.0            1.8            4.4   \n",
       "...        ...       ...           ...            ...            ...   \n",
       "62993    4.001       6.0           7.7            9.8           10.2   \n",
       "62994    4.534       5.1           6.9            9.3            9.9   \n",
       "62995    4.729       4.4           6.3            8.8            9.6   \n",
       "62996    4.883       3.9           5.9            8.4            9.3   \n",
       "62997    4.531       3.5           5.4            8.0            9.0   \n",
       "\n",
       "       30cm 지중온도(°C)  sin_풍향(16방위)_1  con_풍향(16방위)_1  month  season  \n",
       "0                5.2       -0.939693    3.420201e-01      1       0  \n",
       "1                5.2       -0.939693    3.420201e-01      1       0  \n",
       "2                5.2       -0.939693    3.420201e-01      1       0  \n",
       "3                5.2       -0.939693    3.420201e-01      1       0  \n",
       "4                5.2       -0.642788    7.660444e-01      1       0  \n",
       "...              ...             ...             ...    ...     ...  \n",
       "62993            9.8       -1.000000   -1.836970e-16      3       0  \n",
       "62994            9.8       -1.000000   -1.836970e-16      3       0  \n",
       "62995            9.8       -1.000000   -1.836970e-16      3       0  \n",
       "62996            9.7       -1.000000   -1.836970e-16      3       0  \n",
       "62997            9.5       -0.939693   -3.420201e-01      3       0  \n",
       "\n",
       "[62998 rows x 17 columns]"
      ]
     },
     "execution_count": 49,
     "metadata": {},
     "output_type": "execute_result"
    }
   ],
   "source": [
    "x_train"
   ]
  },
  {
   "cell_type": "code",
   "execution_count": 50,
   "metadata": {},
   "outputs": [],
   "source": [
    "# data tensor로 바꾸기\n",
    "x_train=torch.tensor(x_train.values,dtype=torch.float32)\n",
    "y_train=torch.tensor(y_train.values,dtype=torch.float32)\n",
    "x_test=torch.tensor(x_test.values,dtype=torch.float32)\n",
    "y_test=torch.tensor(y_test.values,dtype=torch.float32)"
   ]
  },
  {
   "cell_type": "code",
   "execution_count": 51,
   "metadata": {},
   "outputs": [],
   "source": [
    "\n",
    "train_dataset=TensorDataset(x_train,y_train)\n",
    "test_dataset=TensorDataset(x_test,y_test)\n",
    "\n",
    "train_loader=DataLoader(train_dataset, batch_size=500, shuffle=False)\n",
    "test_loader=DataLoader(test_dataset, shuffle=False)"
   ]
  },
  {
   "cell_type": "code",
   "execution_count": 52,
   "metadata": {},
   "outputs": [],
   "source": [
    "class WeatherForecastModel(nn.Module):\n",
    "    def __init__(self):\n",
    "        super(WeatherForecastModel, self).__init__()\n",
    "        self.hidden_layer1 = nn.Linear(17, 32)\n",
    "        self.hidden_layer2 = nn.Linear(32, 64)\n",
    "        self.hidden_layer3 = nn.Linear(64, 128)\n",
    "        self.hidden_layer4 = nn.Linear(128, 256)\n",
    "        self.hidden_layer5 = nn.Linear(256, 128)\n",
    "        self.hidden_layer6 = nn.Linear(128, 64)\n",
    "        self.hidden_layer7 = nn.Linear(64, 32)\n",
    "        self.hidden_layer8 = nn.Linear(32, 1)\n",
    "\n",
    "    def forward(self, x):\n",
    "        x = torch.relu(self.hidden_layer1(x))\n",
    "        x = torch.relu(self.hidden_layer2(x))\n",
    "        x = torch.relu(self.hidden_layer3(x))\n",
    "        x = torch.relu(self.hidden_layer4(x))\n",
    "        x = torch.relu(self.hidden_layer5(x))\n",
    "        x = torch.relu(self.hidden_layer6(x))\n",
    "        x = torch.relu(self.hidden_layer7(x))\n",
    "        x = self.hidden_layer8(x)\n",
    "        return x\n",
    "\n",
    "# Create an instance of the model\n",
    "weather_forecast_model = WeatherForecastModel()"
   ]
  },
  {
   "cell_type": "code",
   "execution_count": 53,
   "metadata": {},
   "outputs": [
    {
     "data": {
      "text/plain": [
       "WeatherForecastModel(\n",
       "  (hidden_layer1): Linear(in_features=17, out_features=32, bias=True)\n",
       "  (hidden_layer2): Linear(in_features=32, out_features=64, bias=True)\n",
       "  (hidden_layer3): Linear(in_features=64, out_features=128, bias=True)\n",
       "  (hidden_layer4): Linear(in_features=128, out_features=256, bias=True)\n",
       "  (hidden_layer5): Linear(in_features=256, out_features=128, bias=True)\n",
       "  (hidden_layer6): Linear(in_features=128, out_features=64, bias=True)\n",
       "  (hidden_layer7): Linear(in_features=64, out_features=32, bias=True)\n",
       "  (hidden_layer8): Linear(in_features=32, out_features=1, bias=True)\n",
       ")"
      ]
     },
     "execution_count": 53,
     "metadata": {},
     "output_type": "execute_result"
    }
   ],
   "source": [
    "weather_forecast_model"
   ]
  },
  {
   "cell_type": "code",
   "execution_count": 54,
   "metadata": {},
   "outputs": [
    {
     "name": "stderr",
     "output_type": "stream",
     "text": [
      "c:\\Users\\PC\\anaconda3\\envs\\tad\\lib\\site-packages\\torch\\optim\\lr_scheduler.py:28: UserWarning: The verbose parameter is deprecated. Please use get_last_lr() to access the learning rate.\n",
      "  warnings.warn(\"The verbose parameter is deprecated. Please use get_last_lr() \"\n"
     ]
    }
   ],
   "source": [
    "optimizer=torch.optim.AdamW(params=weather_forecast_model.parameters(),lr=1e-5)\n",
    "scheduler=torch.optim.lr_scheduler.ReduceLROnPlateau(optimizer, mode='min', factor=0.2, patience=2, threshold_mode='rel', min_lr=1e-8, verbose=True )\n",
    "criterion=nn.MSELoss()"
   ]
  },
  {
   "cell_type": "code",
   "execution_count": 55,
   "metadata": {},
   "outputs": [
    {
     "name": "stderr",
     "output_type": "stream",
     "text": [
      "c:\\Users\\PC\\anaconda3\\envs\\tad\\lib\\site-packages\\torch\\nn\\modules\\loss.py:535: UserWarning: Using a target size (torch.Size([500])) that is different to the input size (torch.Size([500, 1])). This will likely lead to incorrect results due to broadcasting. Please ensure they have the same size.\n",
      "  return F.mse_loss(input, target, reduction=self.reduction)\n",
      "c:\\Users\\PC\\anaconda3\\envs\\tad\\lib\\site-packages\\torch\\nn\\modules\\loss.py:535: UserWarning: Using a target size (torch.Size([498])) that is different to the input size (torch.Size([498, 1])). This will likely lead to incorrect results due to broadcasting. Please ensure they have the same size.\n",
      "  return F.mse_loss(input, target, reduction=self.reduction)\n",
      "c:\\Users\\PC\\anaconda3\\envs\\tad\\lib\\site-packages\\torch\\nn\\modules\\loss.py:535: UserWarning: Using a target size (torch.Size([8760])) that is different to the input size (torch.Size([8760, 1])). This will likely lead to incorrect results due to broadcasting. Please ensure they have the same size.\n",
      "  return F.mse_loss(input, target, reduction=self.reduction)\n"
     ]
    },
    {
     "name": "stdout",
     "output_type": "stream",
     "text": [
      "Epoch 1/500, Loss: 1.7438199655499527, Val Loss: 1.9929803609848022\n",
      "Epoch 2/500, Loss: 1.7410469694483683, Val Loss: 1.9914997816085815\n",
      "Epoch 3/500, Loss: 1.738796125081291, Val Loss: 1.990592360496521\n",
      "Epoch 4/500, Loss: 1.7367002210370805, Val Loss: 1.9902151823043823\n",
      "Epoch 5/500, Loss: 1.7349635647274129, Val Loss: 1.990400791168213\n",
      "Epoch 6/500, Loss: 1.7336544882136076, Val Loss: 1.990967869758606\n",
      "Epoch 7/500, Loss: 1.732633076289363, Val Loss: 1.9917595386505127\n",
      "Epoch 8/500, Loss: 1.7318188635577225, Val Loss: 1.992577314376831\n",
      "Epoch 9/500, Loss: 1.7311866746318572, Val Loss: 1.9933477640151978\n",
      "Epoch 10/500, Loss: 1.7306964008089745, Val Loss: 1.994066596031189\n",
      "Epoch 11/500, Loss: 1.730307271274207, Val Loss: 1.9947388172149658\n",
      "Epoch 12/500, Loss: 1.729980596516967, Val Loss: 1.995398998260498\n",
      "Epoch 13/500, Loss: 1.7296949143802165, Val Loss: 1.996017575263977\n",
      "Epoch 14/500, Loss: 1.7294542758469447, Val Loss: 1.9965664148330688\n",
      "Epoch 15/500, Loss: 1.729248266485913, Val Loss: 1.9970622062683105\n",
      "Epoch 16/500, Loss: 1.7290651907762442, Val Loss: 1.9975025653839111\n",
      "Epoch 17/500, Loss: 1.7289127206457986, Val Loss: 1.9978926181793213\n",
      "Epoch 18/500, Loss: 1.7287828987751255, Val Loss: 1.9982415437698364\n",
      "Epoch 19/500, Loss: 1.7286678492374994, Val Loss: 1.998550534248352\n",
      "Epoch 20/500, Loss: 1.7285643772767254, Val Loss: 1.998822569847107\n",
      "Epoch 21/500, Loss: 1.7284711495957321, Val Loss: 1.9990592002868652\n",
      "Epoch 22/500, Loss: 1.7283877599532036, Val Loss: 1.999266505241394\n",
      "Epoch 23/500, Loss: 1.7283140009879612, Val Loss: 1.9994539022445679\n",
      "Epoch 24/500, Loss: 1.728248596885722, Val Loss: 1.9996225833892822\n",
      "Epoch 25/500, Loss: 1.7281895717204727, Val Loss: 1.99977707862854\n",
      "Epoch 26/500, Loss: 1.7281355781699257, Val Loss: 1.9999170303344727\n",
      "Epoch 27/500, Loss: 1.728085956782347, Val Loss: 2.000046968460083\n",
      "Epoch 28/500, Loss: 1.7280395200614926, Val Loss: 2.000169038772583\n",
      "Epoch 29/500, Loss: 1.7279965121457448, Val Loss: 2.0002851486206055\n",
      "Epoch 30/500, Loss: 1.7279572712725308, Val Loss: 2.000399589538574\n",
      "Epoch 31/500, Loss: 1.7279194509934437, Val Loss: 2.0005087852478027\n",
      "Epoch 32/500, Loss: 1.7278832642412465, Val Loss: 2.0006091594696045\n",
      "Epoch 33/500, Loss: 1.7278488629299698, Val Loss: 2.0007054805755615\n",
      "Epoch 34/500, Loss: 1.7278163404628353, Val Loss: 2.0007951259613037\n",
      "Epoch 35/500, Loss: 1.727784048114661, Val Loss: 2.000878095626831\n",
      "Epoch 36/500, Loss: 1.7277521849944606, Val Loss: 2.0009570121765137\n",
      "Epoch 37/500, Loss: 1.7277220196405287, Val Loss: 2.001032829284668\n",
      "Epoch 38/500, Loss: 1.7276949583000443, Val Loss: 2.0011041164398193\n",
      "Epoch 39/500, Loss: 1.7276695501120496, Val Loss: 2.0011744499206543\n",
      "Epoch 40/500, Loss: 1.7276454958465404, Val Loss: 2.001237392425537\n",
      "Epoch 41/500, Loss: 1.7276224834003326, Val Loss: 2.0013036727905273\n",
      "Epoch 42/500, Loss: 1.7276007387383931, Val Loss: 2.001363515853882\n",
      "Epoch 43/500, Loss: 1.7275801101411816, Val Loss: 2.001420259475708\n",
      "Epoch 44/500, Loss: 1.727560571903453, Val Loss: 2.0014731884002686\n",
      "Epoch 45/500, Loss: 1.7275419417663636, Val Loss: 2.001521348953247\n",
      "Epoch 46/500, Loss: 1.7275239573878698, Val Loss: 2.0015645027160645\n",
      "Epoch 47/500, Loss: 1.727507142468448, Val Loss: 2.0016088485717773\n",
      "Epoch 48/500, Loss: 1.7274903664375167, Val Loss: 2.00165057182312\n",
      "Epoch 49/500, Loss: 1.7274743152303103, Val Loss: 2.001690626144409\n",
      "Epoch 50/500, Loss: 1.7274588667621447, Val Loss: 2.00173020362854\n",
      "Epoch 51/500, Loss: 1.727443281555622, Val Loss: 2.001765489578247\n",
      "Epoch 52/500, Loss: 1.7274288208289637, Val Loss: 2.0017993450164795\n",
      "Epoch 53/500, Loss: 1.7274136239398854, Val Loss: 2.001828670501709\n",
      "Epoch 54/500, Loss: 1.727399199902248, Val Loss: 2.001858711242676\n",
      "Epoch 55/500, Loss: 1.7273851322813518, Val Loss: 2.0018885135650635\n",
      "Epoch 56/500, Loss: 1.7273713119855107, Val Loss: 2.001920223236084\n",
      "Epoch 57/500, Loss: 1.727357827951064, Val Loss: 2.0019564628601074\n",
      "Epoch 58/500, Loss: 1.7273448490037404, Val Loss: 2.001988172531128\n",
      "Epoch 59/500, Loss: 1.727331939826386, Val Loss: 2.0020220279693604\n",
      "Epoch 60/500, Loss: 1.7273192379693045, Val Loss: 2.0020558834075928\n",
      "Epoch 61/500, Loss: 1.727307070238034, Val Loss: 2.0020875930786133\n",
      "Epoch 62/500, Loss: 1.7272955096990867, Val Loss: 2.00211501121521\n",
      "Epoch 63/500, Loss: 1.7272838902622727, Val Loss: 2.002143144607544\n",
      "Epoch 64/500, Loss: 1.727272436112804, Val Loss: 2.002171277999878\n",
      "Epoch 65/500, Loss: 1.7272610596604268, Val Loss: 2.0022006034851074\n",
      "Epoch 66/500, Loss: 1.7272503797219956, Val Loss: 2.002232789993286\n",
      "Epoch 67/500, Loss: 1.7272394584837365, Val Loss: 2.0022690296173096\n",
      "Epoch 68/500, Loss: 1.7272295268872389, Val Loss: 2.00230073928833\n",
      "Epoch 69/500, Loss: 1.727219497461719, Val Loss: 2.002336025238037\n",
      "Epoch 70/500, Loss: 1.7272097412487788, Val Loss: 2.0023725032806396\n",
      "Epoch 71/500, Loss: 1.7271999537782117, Val Loss: 2.0024054050445557\n",
      "Epoch 72/500, Loss: 1.7271905122501041, Val Loss: 2.0024383068084717\n",
      "Epoch 73/500, Loss: 1.7271805865229728, Val Loss: 2.0024726390838623\n",
      "Epoch 74/500, Loss: 1.7271707610318765, Val Loss: 2.002502202987671\n",
      "Epoch 75/500, Loss: 1.7271607442313526, Val Loss: 2.002528429031372\n",
      "Epoch 76/500, Loss: 1.7271515469267793, Val Loss: 2.0025553703308105\n",
      "Epoch 77/500, Loss: 1.7271418707311652, Val Loss: 2.0025763511657715\n",
      "Epoch 78/500, Loss: 1.7271329432176497, Val Loss: 2.0026040077209473\n",
      "Epoch 79/500, Loss: 1.7271236908152892, Val Loss: 2.002624273300171\n",
      "Epoch 80/500, Loss: 1.727114930326793, Val Loss: 2.0026514530181885\n",
      "Epoch 81/500, Loss: 1.7271061289830791, Val Loss: 2.002667188644409\n",
      "Epoch 82/500, Loss: 1.7270977083605095, Val Loss: 2.0026893615722656\n",
      "Epoch 83/500, Loss: 1.7270891720343113, Val Loss: 2.002704381942749\n",
      "Epoch 84/500, Loss: 1.7270806392892064, Val Loss: 2.0027213096618652\n",
      "Epoch 85/500, Loss: 1.7270720749577224, Val Loss: 2.002736806869507\n",
      "Epoch 86/500, Loss: 1.7270632121066114, Val Loss: 2.0027568340301514\n",
      "Epoch 87/500, Loss: 1.7270544660591884, Val Loss: 2.0027759075164795\n",
      "Epoch 88/500, Loss: 1.7270461130588897, Val Loss: 2.0027990341186523\n",
      "Epoch 89/500, Loss: 1.7270378366722612, Val Loss: 2.0028223991394043\n",
      "Epoch 90/500, Loss: 1.7270295687646773, Val Loss: 2.002842903137207\n",
      "Epoch 91/500, Loss: 1.7270214989298378, Val Loss: 2.002861976623535\n",
      "Epoch 92/500, Loss: 1.7270133603709967, Val Loss: 2.0028765201568604\n",
      "Epoch 93/500, Loss: 1.727005147547267, Val Loss: 2.002892017364502\n",
      "Epoch 94/500, Loss: 1.7269971772498522, Val Loss: 2.0029098987579346\n",
      "Epoch 95/500, Loss: 1.7269892823060697, Val Loss: 2.0029237270355225\n",
      "Epoch 96/500, Loss: 1.7269813616840068, Val Loss: 2.002936840057373\n",
      "Epoch 97/500, Loss: 1.7269735485168967, Val Loss: 2.0029523372650146\n",
      "Epoch 98/500, Loss: 1.7269659733987446, Val Loss: 2.0029680728912354\n",
      "Epoch 99/500, Loss: 1.726958555518535, Val Loss: 2.002983570098877\n",
      "Epoch 100/500, Loss: 1.726950768674068, Val Loss: 2.0029988288879395\n"
     ]
    }
   ],
   "source": [
    "for epoch in range(100):\n",
    "    weather_forecast_model.train()\n",
    "    loss_values=0.0\n",
    "    for inputs, targets in train_loader:\n",
    "        optimizer.zero_grad()\n",
    "        outputs=weather_forecast_model(inputs)\n",
    "        loss=criterion(outputs, targets)\n",
    "        loss.backward()\n",
    "        optimizer.step()\n",
    "\n",
    "        loss_values+=loss.item() * inputs.size(0)\n",
    "    \n",
    "    weather_forecast_model.eval()  # Set the model to evaluation mode\n",
    "    with torch.no_grad():\n",
    "        val_outputs = weather_forecast_model(x_test)\n",
    "        val_loss = criterion(val_outputs, y_test)\n",
    "    \n",
    "    # Print epoch statistics\n",
    "    print(f\"Epoch {epoch+1}/{500}, Loss: {loss_values/len(train_dataset)}, Val Loss: {val_loss.item()}\")"
   ]
  },
  {
   "cell_type": "code",
   "execution_count": 56,
   "metadata": {},
   "outputs": [],
   "source": [
    "weather_forecast_model.eval()  # Set the model to evaluation mode\n",
    "with torch.no_grad():\n",
    "    predict = weather_forecast_model(x_test)\n"
   ]
  },
  {
   "cell_type": "code",
   "execution_count": 57,
   "metadata": {},
   "outputs": [],
   "source": [
    "predict=predict.reshape(-1)\n",
    "predict=np.exp(predict)"
   ]
  },
  {
   "cell_type": "code",
   "execution_count": 58,
   "metadata": {},
   "outputs": [
    {
     "data": {
      "text/plain": [
       "torch.Size([8760])"
      ]
     },
     "execution_count": 58,
     "metadata": {},
     "output_type": "execute_result"
    }
   ],
   "source": [
    "y_test.size()"
   ]
  },
  {
   "cell_type": "code",
   "execution_count": 59,
   "metadata": {},
   "outputs": [
    {
     "data": {
      "text/plain": [
       "torch.Size([8760])"
      ]
     },
     "execution_count": 59,
     "metadata": {},
     "output_type": "execute_result"
    }
   ],
   "source": [
    "predict.size()"
   ]
  },
  {
   "cell_type": "code",
   "execution_count": 60,
   "metadata": {},
   "outputs": [
    {
     "data": {
      "text/plain": [
       "tensor([1.0804, 1.0758, 1.0753,  ..., 1.1084, 1.0803, 1.0820])"
      ]
     },
     "execution_count": 60,
     "metadata": {},
     "output_type": "execute_result"
    }
   ],
   "source": [
    "predict"
   ]
  },
  {
   "cell_type": "code",
   "execution_count": 61,
   "metadata": {},
   "outputs": [
    {
     "data": {
      "text/plain": [
       "tensor(0.1909)"
      ]
     },
     "execution_count": 61,
     "metadata": {},
     "output_type": "execute_result"
    }
   ],
   "source": [
    "y_test.mean()"
   ]
  },
  {
   "cell_type": "code",
   "execution_count": 62,
   "metadata": {},
   "outputs": [
    {
     "data": {
      "image/png": "[encoded data removed]",
      "text/plain": [
       "<Figure size 640x480 with 1 Axes>"
      ]
     },
     "metadata": {},
     "output_type": "display_data"
    }
   ],
   "source": [
    "plt.plot(y_test)\n",
    "plt.plot(predict)\n",
    "plt.show()"
   ]
  },
  {
   "cell_type": "code",
   "execution_count": null,
   "metadata": {},
   "outputs": [],
   "source": []
  },
  {
   "cell_type": "code",
   "execution_count": null,
   "metadata": {},
   "outputs": [],
   "source": []
  }
 ],
 "metadata": {
  "kernelspec": {
   "display_name": "tad",
   "language": "python",
   "name": "python3"
  },
  "language_info": {
   "codemirror_mode": {
    "name": "ipython",
    "version": 3
   },
   "file_extension": ".py",
   "mimetype": "text/x-python",
   "name": "python",
   "nbconvert_exporter": "python",
   "pygments_lexer": "ipython3",
   "version": "3.9.19"
  }
 },
 "nbformat": 4,
 "nbformat_minor": 2
}
